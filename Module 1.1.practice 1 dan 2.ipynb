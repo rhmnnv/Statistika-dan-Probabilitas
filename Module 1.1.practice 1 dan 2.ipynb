{
 "cells": [
  {
   "cell_type": "markdown",
   "id": "732ca76f",
   "metadata": {},
   "source": [
    "STATISTIKA PROBABILITAS\n",
    "\n",
    "    PRACTICE 1.1\n",
    "    \n",
    "    1. Diketahui tinggi badan siswa kelas A adalah 100,5; 99,7; 101; 101,3; 99,9; 98,9; 165; 102,2; 98,7; 102,9; 100. Menggunakan Mean, Median, dan Modus, coba gambarkan pusat distribusi data berikut. Manakah yang paling bagus? "
   ]
  },
  {
   "cell_type": "code",
   "execution_count": null,
   "id": "4f00c8e3",
   "metadata": {},
   "outputs": [],
   "source": [
    "import statistics\n",
    "import matplotlib.pyplot as plt\n",
    "\n",
    "# Inisialisasi Dataset\n",
    "data_tinggi_badan_siswa = [100.5, 99.7, 101, 101.3, 99.9, 98.9, 165, 102.2, 98.7, 102.9, 100]\n",
    "\n",
    "# Fungsi untuk Menghitung Nilai Mean, Median, dan Modus\n",
    "def nilai_mean(data):\n",
    "    return sum(data) / len(data)\n",
    "\n",
    "def nilai_median(data):\n",
    "    data.sort()\n",
    "    n = len(data)\n",
    "    if n % 2 == 0:\n",
    "        median = (data[n//2 - 1] + data[n//2]) / 2\n",
    "    else:\n",
    "        median = data[n//2]\n",
    "    return median\n",
    "\n",
    "def nilai_modus(data):\n",
    "    modus = max(set(data), key = data.count)\n",
    "    return modus\n",
    "\n",
    "# Menghitung Nilai Mean, Median, dan Modus\n",
    "mean_manual = nilai_mean(data_tinggi_badan_siswa)\n",
    "\n",
    "median_manual = nilai_median(data_tinggi_badan_siswa)\n",
    "\n",
    "modus_manual = nilai_modus(data_tinggi_badan_siswa)\n",
    "\n",
    "mean_stats = statistics.mean(data_tinggi_badan_siswa)\n",
    "\n",
    "median_stats = statistics.median(data_tinggi_badan_siswa)\n",
    "\n",
    "modus_stats = statistics.mode(data_tinggi_badan_siswa)\n",
    "\n",
    "# Menampilkan Hasil\n",
    "print(f\"Mean secara Statistics: {mean_stats}\")\n",
    "print(f\"Mean secara Manual: {mean_manual}\")\n",
    "print(f\"Modus secara Statistics: {modus_stats}\")\n",
    "print(f\"Modus secara Manual: {modus_manual}\")\n",
    "print(f\"Median secara Statistics: {median_stats}\")\n",
    "print(f\"Median secara Manual: {median_manual}\")\n",
    "\n",
    "# Visualisasi Distribusi Data\n",
    "plt.hist(data_tinggi_badan_siswa, bins=20, color='purple', edgecolor='black')\n",
    "plt.axvline(mean_stats, color='green', linestyle='dashed', linewidth=2, label='Mean')\n",
    "plt.axvline(median_stats, color='blue', linestyle='dashed', linewidth=2, label='Median')\n",
    "plt.axvline(modus_stats, color='red', linestyle='dashed', linewidth=2, label='Modus')\n",
    "plt.xlabel('Tinggi Badan')\n",
    "plt.ylabel('Frekuensi')\n",
    "plt.legend()\n",
    "plt.show()"
   ]
  },
  {
   "cell_type": "markdown",
   "id": "cc9a50f7",
   "metadata": {},
   "source": [
    "    2. Berikut adalah nilai UAS pada mata pelajaran matematika di kelas A: 95, 35, 50, 65, 70, 85, 25, 100, 80, 90, 45, 40, 35, 20, 75, 50, 40, 60, 80, 75. Menggunakan Mean, Median, dan Modus, coba gambarkan pusat distribusi data berikut. Manakah yang paling bagus?\n"
   ]
  },
  {
   "cell_type": "code",
   "execution_count": 18,
   "id": "3058f25d",
   "metadata": {},
   "outputs": [
    {
     "name": "stdout",
     "output_type": "stream",
     "text": [
      "Mean secara Statistics: 60.75\n",
      "Mean secara Manual: 60.75\n",
      "Modus secara Statistics: 35\n",
      "Modus secara Manual: 35\n",
      "Median secara Statistics: 62.5\n",
      "Median secara Manual: 62.5\n"
     ]
    },
    {
     "data": {
      "image/png": "[encoded data removed]",
      "text/plain": [
       "<Figure size 640x480 with 1 Axes>"
      ]
     },
     "metadata": {},
     "output_type": "display_data"
    }
   ],
   "source": [
    "import statistics\n",
    "import matplotlib.pyplot as plt\n",
    "\n",
    "# Inisialisasi Dataset\n",
    "data_nilai_UAS_Matematika = [95, 35, 50, 65, 70, 85, 25, 100, 80, 90, 45, 40, 35, 20, 75, 50, 40, 60, 80, 75]\n",
    "\n",
    "# Fungsi untuk Menghitung Nilai Mean, Median, dan Modus\n",
    "def nilai_mean(data):\n",
    "    return sum(data) / len(data)\n",
    "\n",
    "def nilai_median(data):\n",
    "    data.sort()\n",
    "    n = len(data)\n",
    "    if n % 2 == 0:\n",
    "        median = (data[n//2 - 1] + data[n//2]) / 2\n",
    "    else:\n",
    "        median = data[n//2]\n",
    "    return median\n",
    "\n",
    "def nilai_modus(data):\n",
    "    modus = max(set(data), key = data.count)\n",
    "    return modus\n",
    "\n",
    "# Menghitung Nilai Mean, Median, dan Modus\n",
    "mean_manual = nilai_mean(data_nilai_UAS_Matematika)\n",
    "\n",
    "median_manual = nilai_median(data_nilai_UAS_Matematika)\n",
    "\n",
    "modus_manual = nilai_modus(data_nilai_UAS_Matematika)\n",
    "\n",
    "mean_stats = statistics.mean(data_nilai_UAS_Matematika)\n",
    "\n",
    "median_stats = statistics.median(data_nilai_UAS_Matematika)\n",
    "\n",
    "modus_stats = statistics.mode(data_nilai_UAS_Matematika)\n",
    "\n",
    "# Menampilkan Hasil\n",
    "print(f\"Mean secara Statistics: {mean_stats}\")\n",
    "print(f\"Mean secara Manual: {mean_manual}\")\n",
    "print(f\"Modus secara Statistics: {modus_stats}\")\n",
    "print(f\"Modus secara Manual: {modus_manual}\")\n",
    "print(f\"Median secara Statistics: {median_stats}\")\n",
    "print(f\"Median secara Manual: {median_manual}\")\n",
    "\n",
    "# Visualisasi Distribusi Data\n",
    "plt.hist(data_nilai_UAS_Matematika, bins=20, color='purple', edgecolor='black')\n",
    "plt.axvline(mean_stats, color='green', linestyle='dashed', linewidth=2, label='Mean')\n",
    "plt.axvline(median_stats, color='blue', linestyle='dashed', linewidth=2, label='Median')\n",
    "plt.axvline(modus_stats, color='red', linestyle='dashed', linewidth=2, label='Modus')\n",
    "plt.xlabel('Tinggi Badan')\n",
    "plt.ylabel('Frekuensi')\n",
    "plt.legend()\n",
    "plt.show()"
   ]
  },
  {
   "cell_type": "code",
   "execution_count": null,
   "id": "5b5129d5",
   "metadata": {},
   "outputs": [],
   "source": []
  }
 ],
 "metadata": {
  "kernelspec": {
   "display_name": "Python 3 (ipykernel)",
   "language": "python",
   "name": "python3"
  },
  "language_info": {
   "codemirror_mode": {
    "name": "ipython",
    "version": 3
   },
   "file_extension": ".py",
   "mimetype": "text/x-python",
   "name": "python",
   "nbconvert_exporter": "python",
   "pygments_lexer": "ipython3",
   "version": "3.11.5"
  }
 },
 "nbformat": 4,
 "nbformat_minor": 5
}
